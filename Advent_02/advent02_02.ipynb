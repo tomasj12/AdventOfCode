{
 "cells": [
  {
   "cell_type": "code",
   "execution_count": 3,
   "metadata": {},
   "outputs": [],
   "source": [
    "import pandas as pd\n",
    "import numpy as np"
   ]
  },
  {
   "cell_type": "code",
   "execution_count": 17,
   "metadata": {},
   "outputs": [],
   "source": [
    "data = pd.read_csv('advent_02_data.tsv', sep = ' ',header = None)\n",
    "data = data.rename(columns={0:'Direction',1:'value'})\n",
    "data['value'] = data.apply(lambda x: x[1] * -1 if x[0] == 'up' else x[1], axis = 1)\n",
    "data['aim_temp'] = data.apply(lambda x: x[1] if x[0] != 'forward' else 0, axis = 1)\n",
    "data['aim'] = np.cumsum(data['aim_temp'].values)\n",
    "data['depth'] = data.apply(lambda x: x[1] if x[0] == 'forward' else 0, axis = 1)\n",
    "data['depth'] = data['depth'].values * data['aim']\n",
    "grouped = data.groupby(['Direction'], as_index=False).sum()\n",
    "forward = grouped[grouped.Direction == 'forward']['value'].values\n",
    "depth = data['depth'].sum()"
   ]
  },
  {
   "cell_type": "code",
   "execution_count": 20,
   "metadata": {},
   "outputs": [
    {
     "data": {
      "text/plain": [
       "array([1842742223], dtype=int64)"
      ]
     },
     "execution_count": 20,
     "metadata": {},
     "output_type": "execute_result"
    }
   ],
   "source": [
    "forward * depth"
   ]
  }
 ],
 "metadata": {
  "interpreter": {
   "hash": "7adc90f6c8d6a3d0b87f3c566a6eba8c762f54050f2350ef92b856e7f024acc6"
  },
  "kernelspec": {
   "display_name": "Python 3.9.7 64-bit ('deep-learning': conda)",
   "language": "python",
   "name": "python3"
  },
  "language_info": {
   "codemirror_mode": {
    "name": "ipython",
    "version": 3
   },
   "file_extension": ".py",
   "mimetype": "text/x-python",
   "name": "python",
   "nbconvert_exporter": "python",
   "pygments_lexer": "ipython3",
   "version": "3.9.7"
  },
  "orig_nbformat": 4
 },
 "nbformat": 4,
 "nbformat_minor": 2
}
